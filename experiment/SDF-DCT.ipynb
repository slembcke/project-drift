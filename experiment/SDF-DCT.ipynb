{
 "cells": [
  {
   "cell_type": "code",
   "execution_count": null,
   "id": "coordinate-tennessee",
   "metadata": {},
   "outputs": [],
   "source": [
    "import math, sys\n",
    "import numpy as np\n",
    "import numpy.linalg as la\n",
    "import matplotlib.pyplot as pp\n",
    "from PIL import Image\n",
    "import scipy.fft as fft\n",
    "import zlib"
   ]
  },
  {
   "cell_type": "code",
   "execution_count": null,
   "id": "92dff9dd",
   "metadata": {},
   "outputs": [],
   "source": [
    "filenames = [\n",
    "\t\"/home/slembcke/Development/project-drift/tiles/tile3-3461.png\",\n",
    "\t\"/home/slembcke/Development/project-drift/tiles/tile3-5524.png\",\n",
    "\t\"/home/slembcke/Development/project-drift/tiles/tile3-6007.png\",\n",
    "\t\"/home/slembcke/Development/project-drift/tiles/tile3-8058.png\",\n",
    "\t\"/home/slembcke/Development/project-drift/tiles/tile4-1157.png\",\n",
    "\t\"/home/slembcke/Development/project-drift/tiles/tile3-5728.png\",\n",
    "\t\"/home/slembcke/Development/project-drift/tiles/tile3-3938.png\",\n",
    "\t\"/home/slembcke/Development/project-drift/tiles/tile7-8148.png\",\n",
    "]\n",
    "\n",
    "zbits = [\n",
    "\t0b0000_00000, 0b0000_00001, 0b0000_00100, 0b0000_00101, 0b0000_10000, 0b0000_10001, 0b0000_10100, 0b0000_10101,\n",
    "\t0b0010_00000, 0b0010_00001, 0b0010_00100, 0b0010_00101, 0b0010_10000, 0b0010_10001, 0b0010_10100, 0b0010_10101,\n",
    "\t0b1000_00000, 0b1000_00001, 0b1000_00100, 0b1000_00101, 0b1000_10000, 0b1000_10001, 0b1000_10100, 0b1000_10101,\n",
    "\t0b1010_00000, 0b1010_00001, 0b1010_00100, 0b1010_00101, 0b1010_10000, 0b1010_10001, 0b1010_10100, 0b1010_10101,\n",
    "]\n",
    "def zfunc(n): return 2*zbits[n >> 5] + zbits[n & 0b11111]\n",
    "\n",
    "zorder, rorder = np.zeros(32*32, int), np.zeros(32*32, int)\n",
    "for n in range(32*32):\n",
    "\tz = zfunc(n)\n",
    "\tzorder[z], rorder[n] = n, z\n",
    "\n",
    "def zigzag(n): return (n << 1) ^ (n >> 31)"
   ]
  },
  {
   "cell_type": "code",
   "execution_count": null,
   "id": "732fb13c",
   "metadata": {},
   "outputs": [],
   "source": [
    "q_arr = np.linspace(1, 0, 32)**5\n",
    "q_arr = 32*q_arr + 16*(1 - q_arr)\n",
    "pp.plot(q_arr)\n",
    "\n",
    "q_arr = np.array([q_arr])\n",
    "q = np.ceil(np.matmul(q_arr.T, q_arr))\n",
    "q_arr\n"
   ]
  },
  {
   "cell_type": "code",
   "execution_count": null,
   "id": "512e245d",
   "metadata": {},
   "outputs": [],
   "source": [
    "def foo(filename):\n",
    "\timg = Image.open(filename)\n",
    "\tz = fft.dctn(img)\n",
    "\tz = np.round(z/q).astype(int)\n",
    "\th = np.round(fft.idctn(z*q)).astype(int)\n",
    "\t\n",
    "\tbytes = z.flatten().astype(np.int8)\n",
    "\tbytes = bytes[zorder]\n",
    "\t\n",
    "\treturn img, bytes, z, h\n",
    "\n",
    "for filename in filenames:\n",
    "\timg, bytes, z, h, = foo(filename)\n",
    "\tbytes.tofile(filename.replace(\".png\", \".bin\"))\n",
    "\tcomp = zlib.compress(bytes, 9)\n",
    "\tprint(1024/len(comp))\n",
    "\n",
    "\t_ = pp.hist((h - img).flatten(), 15, (-7, 7))\n",
    "\tpp.show()\n",
    "\n",
    "\t# pp.imshow(abs(z) > 0)\n",
    "\tpp.imshow(abs(bytes.reshape(32, 32)) > 0)\n",
    "\tpp.show()\n",
    "\n",
    "\tpp.imshow(h)\n",
    "\tpp.show()\n"
   ]
  },
  {
   "cell_type": "code",
   "execution_count": null,
   "id": "74bbe315",
   "metadata": {},
   "outputs": [],
   "source": [
    "img = Image.open(filenames[0])\n",
    "z = fft.dctn(img)\n",
    "bytes = (z).flatten()[zorder].astype(int)"
   ]
  },
  {
   "cell_type": "code",
   "execution_count": null,
   "id": "9d81eafe",
   "metadata": {},
   "outputs": [],
   "source": [
    "zz = zigzag(bytes)\n",
    "pp.plot(np.log(zz))\n",
    "bytes"
   ]
  },
  {
   "cell_type": "code",
   "execution_count": null,
   "id": "497e0707",
   "metadata": {},
   "outputs": [],
   "source": []
  }
 ],
 "metadata": {
  "kernelspec": {
   "display_name": "Python 3",
   "language": "python",
   "name": "python3"
  },
  "language_info": {
   "codemirror_mode": {
    "name": "ipython",
    "version": 3
   },
   "file_extension": ".py",
   "mimetype": "text/x-python",
   "name": "python",
   "nbconvert_exporter": "python",
   "pygments_lexer": "ipython3",
   "version": "3.10.4"
  }
 },
 "nbformat": 4,
 "nbformat_minor": 5
}
