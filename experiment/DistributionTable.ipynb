{
 "cells": [
  {
   "cell_type": "code",
   "execution_count": null,
   "id": "b9e690b1-229a-4ab3-9fab-da61238d5a42",
   "metadata": {},
   "outputs": [],
   "source": [
    "using Plots"
   ]
  },
  {
   "cell_type": "code",
   "execution_count": null,
   "id": "8a6f593b-ad82-4f92-94d3-8361785c86d2",
   "metadata": {},
   "outputs": [],
   "source": [
    "n = 3\n",
    "arr = map(zeros(Int, 100000)) do _\n",
    "    r = rand()\n",
    "    \n",
    "    idx = 0\n",
    "    for i in 1:n\n",
    "        r *= i\n",
    "        if r < 1\n",
    "            idx = i\n",
    "        else\n",
    "            r = (r - 1)/(i - 1)\n",
    "        end\n",
    "    end\n",
    "    \n",
    "    return idx\n",
    "end\n",
    "\n",
    "hist = zeros(Int, n)\n",
    "for e in arr hist[e] += 1 end\n",
    "\n",
    "hist ./ length(arr)"
   ]
  },
  {
   "cell_type": "code",
   "execution_count": null,
   "id": "1aec3817-a762-45d1-be63-4375637d227c",
   "metadata": {},
   "outputs": [],
   "source": [
    "prob = [20, 20, 20, 40]\n",
    "arr = map(zeros(Int, 100000)) do _\n",
    "    r = rand()\n",
    "    \n",
    "    idx = 0\n",
    "    sum = 0\n",
    "    for i in 1:length(prob)\n",
    "        p = prob[i]\n",
    "        sum += p\n",
    "        r *= sum\n",
    "        # println(\"i:$(i), r?:$(r), p:$(p), sum:$(sum)\")\n",
    "        if r < p\n",
    "            idx = i\n",
    "            r /= p\n",
    "        else\n",
    "            r = (r - p)/(sum - p)\n",
    "        end\n",
    "    end\n",
    "    \n",
    "    return idx\n",
    "end\n",
    "\n",
    "hist = zeros(Int, length(prob))\n",
    "for e in arr hist[e] += 1 end\n",
    "hist ./ length(arr)"
   ]
  },
  {
   "cell_type": "code",
   "execution_count": null,
   "id": "36e6cb07-97d4-4c04-9090-63877088d341",
   "metadata": {},
   "outputs": [],
   "source": [
    "RAND_MAX = 2^31\n",
    "prob = [1, 1, 2]\n",
    "arr = map(zeros(Int, 100000)) do _\n",
    "    r = rand(0:RAND_MAX - 1)\n",
    "    \n",
    "    idx = 0\n",
    "    sum = 0\n",
    "    for i in 1:length(prob)\n",
    "        p = prob[i]\n",
    "        sum += p\n",
    "        r *= sum\n",
    "        if r < p*RAND_MAX\n",
    "            idx = i\n",
    "            r /= p\n",
    "        else\n",
    "            r = (r - p*RAND_MAX)/(sum - p)\n",
    "        end\n",
    "    end\n",
    "    \n",
    "    return idx\n",
    "end\n",
    "\n",
    "hist = zeros(Int, length(prob))\n",
    "for e in arr hist[e] += 1 end\n",
    "hist ./ length(arr)"
   ]
  },
  {
   "cell_type": "code",
   "execution_count": null,
   "id": "ec6147bd-03fe-425f-a822-3c1470089a6f",
   "metadata": {},
   "outputs": [],
   "source": []
  }
 ],
 "metadata": {
  "kernelspec": {
   "display_name": "Julia 1.4.1",
   "language": "julia",
   "name": "julia-1.4"
  },
  "language_info": {
   "file_extension": ".jl",
   "mimetype": "application/julia",
   "name": "julia",
   "version": "1.4.1"
  }
 },
 "nbformat": 4,
 "nbformat_minor": 5
}
