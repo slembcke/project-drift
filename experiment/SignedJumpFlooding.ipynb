{
 "cells": [
  {
   "cell_type": "code",
   "execution_count": null,
   "metadata": {},
   "outputs": [],
   "source": [
    "import numpy as np\n",
    "import matplotlib.pyplot as pp\n",
    "import math\n",
    "\n",
    "inf = float(\"inf\")\n",
    "\n",
    "def D(x):\n",
    "    ddx = np.zeros_like(x)\n",
    "    ddx[1: -1] = x[2:] - x[:-2]\n",
    "    ddx[0], ddx[-1] = ddx[1], ddx[-2]\n",
    "    return ddx\n"
   ]
  },
  {
   "cell_type": "code",
   "execution_count": null,
   "metadata": {},
   "outputs": [],
   "source": [
    "def f(x): return np.sin(x/10) + np.sin(2.1/10*x) + 0.5*np.sin(6.3/10*x) - 0.5\n",
    "x = np.arange(0.0, 100.0, 1.0)\n",
    "y = f(x)\n",
    "\n",
    "def absmin(a, b): return a if abs(a) < abs(b) else b\n",
    "def sratio(a, b): return math.copysign(a/(abs(a - b) + 1e-10), a)\n",
    "    \n",
    "hs = np.empty_like(x)\n",
    "for i in range(len(x)):\n",
    "    h0, h1, h2 = f(i - 1), f(i + 0), f(i + 1)\n",
    "    f1 = math.copysign(inf, h1)\n",
    "    f0 = sratio(h1, h0) if h1*h0 <= 0 else f1\n",
    "    f2 = sratio(h1, h2) if h1*h2 <= 0 else f1\n",
    "    hs[i] = absmin(f0, f2)\n",
    "\n",
    "pp.figure(figsize=(40, 40))\n",
    "pp.gca().set_aspect(1)\n",
    "pp.xlim(0, len(x))\n",
    "pp.ylim(-4, 4)\n",
    "\n",
    "pp.axhline(-1, color=\"gray\")\n",
    "pp.axhline( 0, color=\"gray\")\n",
    "pp.axhline( 1, color=\"gray\")\n",
    "pp.plot(4*y, \"o-\")\n",
    "pp.plot(hs, \"o-\")"
   ]
  },
  {
   "cell_type": "code",
   "execution_count": null,
   "metadata": {},
   "outputs": [],
   "source": [
    "def absmin(a, b): return a if abs(a) < abs(b) else b\n",
    "def sd(f, s): return math.copysign(f, s)\n",
    "\n",
    "def jump_flood(h):\n",
    "    def flood(d, r):\n",
    "        for i in range(len(d)):\n",
    "            i0, i2 = (i - r)%len(d), (i + r)%len(d)\n",
    "            d0, d1, d2 = d[i0], d[i], d[i2]\n",
    "            dmin = absmin(d0 + sd(i - i0, d0), d2 + sd(i - i2, d2))\n",
    "            d[i] = absmin(d1, sd(dmin, d1))\n",
    "        return d\n",
    "\n",
    "    def rec(d, r):\n",
    "        if r < len(d): flood(d, r);\n",
    "        if r > 1: rec(d, r//2)\n",
    "    \n",
    "    d = np.array(h)\n",
    "    rec(d, 4)\n",
    "    return np.maximum(-1, np.minimum(d, 1))\n",
    "\n",
    "pp.figure(figsize=(20, 10))\n",
    "pp.xlim(0, len(x))\n",
    "pp.ylim(-2, 2)\n",
    "# pp.gca().set_aspect(1)\n",
    "\n",
    "pp.axhline(0, color=\"gray\")\n",
    "pp.plot(y)\n",
    "pp.plot(jump_flood(hs))"
   ]
  },
  {
   "cell_type": "code",
   "execution_count": null,
   "metadata": {},
   "outputs": [],
   "source": [
    "x = y = np.linspace(-16, 16, 32)\n",
    "X, Y = np.meshgrid(x, y)\n",
    "Z = 16*np.minimum(np.sqrt(X*X + Y*Y), 1)\n",
    "\n",
    "pp.figure(figsize=(10, 10))\n",
    "pp.imshow(Z, cmap=\"gray\")"
   ]
  },
  {
   "cell_type": "code",
   "execution_count": null,
   "metadata": {},
   "outputs": [],
   "source": []
  }
 ],
 "metadata": {
  "kernelspec": {
   "display_name": "Python 3",
   "language": "python",
   "name": "python3"
  },
  "language_info": {
   "codemirror_mode": {
    "name": "ipython",
    "version": 3
   },
   "file_extension": ".py",
   "mimetype": "text/x-python",
   "name": "python",
   "nbconvert_exporter": "python",
   "pygments_lexer": "ipython3",
   "version": "3.8.10"
  }
 },
 "nbformat": 4,
 "nbformat_minor": 5
}
