{
 "cells": [
  {
   "cell_type": "code",
   "execution_count": null,
   "id": "aba91ad1-627e-4c8e-ab4b-4a1af73367da",
   "metadata": {},
   "outputs": [],
   "source": [
    "using DelimitedFiles\n",
    "using Plots\n",
    "using DSP\n",
    "using Statistics"
   ]
  },
  {
   "cell_type": "code",
   "execution_count": null,
   "id": "7b2e09e6-e1cd-43b7-8ccb-4b97ef07363a",
   "metadata": {},
   "outputs": [],
   "source": [
    "times = readdlm(\"/tmp/times.txt\", ',', Float64)[10:4096, :]/1e9\n",
    "dt, smoothed = times[:, 1], times[:, 2]\n",
    "dt = (dt .- 1/143.85).*1e6\n",
    ";"
   ]
  },
  {
   "cell_type": "code",
   "execution_count": null,
   "id": "a17e4705-fa16-4f0b-9351-99a817dd762f",
   "metadata": {},
   "outputs": [],
   "source": [
    "# Quantize by truncating towards the quantization value\n",
    "qtrunc(f, q) = trunc(f/q - 1)*q + q\n",
    "# Filter with a cheap IIR filter\n",
    "lowpass = digitalfilter(Lowpass(1/128), Butterworth(2))\n",
    "dt_filt0 = filt(lowpass, dt)\n",
    "lowpass = digitalfilter(Lowpass(1/128), Butterworth(1))\n",
    "dt_filt1 = dt\n",
    "dt_filt1 = filt(lowpass, dt_filt1)\n",
    "dt_filt1 = filt(lowpass, dt_filt1)\n",
    "# dt_filt1 = filt(lowpass, dt_filt1)\n",
    "p1 = plot([abs.(dt_filt0), abs.(dt_filt1)], title=\"error μs\", label=[\"old\" \"new\"])\n",
    "p2 = plot([abs.(dt_filt0), abs.(dt_filt1)], yaxis=(scale=:log10), title=\"log error μs\", label=[\"old\" \"new\"])\n",
    "plot(p1, size=(800, 200), layout=(2,1), xlim=(0, length(dt)), ylim=(0,6))"
   ]
  },
  {
   "cell_type": "code",
   "execution_count": null,
   "id": "fa6955a9-df73-47c0-b616-5ab55b99a63b",
   "metadata": {},
   "outputs": [],
   "source": [
    "arr = dt_filt1[1000:3000]\n",
    "1/mean(arr), 1e6*std(arr)"
   ]
  },
  {
   "cell_type": "code",
   "execution_count": null,
   "id": "ad7753ab-72ae-45dd-8a77-8f1b346f460c",
   "metadata": {},
   "outputs": [],
   "source": [
    "b, a = coefb(lowpass), coefa(lowpass)"
   ]
  },
  {
   "cell_type": "code",
   "execution_count": null,
   "id": "880d94a5-756b-45a3-baf7-efdefecc207a",
   "metadata": {},
   "outputs": [],
   "source": [
    "conv(b,b), conv(a,a)"
   ]
  },
  {
   "cell_type": "code",
   "execution_count": null,
   "id": "d56ead8e-9599-4e2d-af18-63944a0da1d7",
   "metadata": {},
   "outputs": [],
   "source": []
  }
 ],
 "metadata": {
  "kernelspec": {
   "display_name": "Julia 1.5.3",
   "language": "julia",
   "name": "julia-1.5"
  },
  "language_info": {
   "file_extension": ".jl",
   "mimetype": "application/julia",
   "name": "julia",
   "version": "1.5.3"
  }
 },
 "nbformat": 4,
 "nbformat_minor": 5
}
