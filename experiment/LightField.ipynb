{
 "cells": [
  {
   "cell_type": "code",
   "execution_count": null,
   "metadata": {},
   "outputs": [],
   "source": [
    "%matplotlib inline\n",
    "import math\n",
    "import numpy as np\n",
    "import scipy\n",
    "import scipy.fftpack as fft\n",
    "import scipy.signal as signal\n",
    "import matplotlib.pyplot as pp"
   ]
  },
  {
   "cell_type": "code",
   "execution_count": null,
   "metadata": {},
   "outputs": [],
   "source": [
    "X = np.linspace(-math.pi, math.pi, 4096)\n",
    "\n",
    "n_dot_l = np.maximum(0, np.cos(X))\n",
    "pp.plot(X, n_dot_l, linewidth=2)\n",
    "\n",
    "approx = (1/math.pi) + 0.5*np.cos(X) + (2/3/math.pi)*np.cos(2*X)\n",
    "pp.plot(X, approx)\n",
    "\n",
    "P = fft.fft(n_dot_l)\n",
    "# P[3:] = 0\n",
    "# P[1:] *= 2\n",
    "ifft = np.real(fft.ifft(P))\n",
    "pp.plot(X, ifft)"
   ]
  },
  {
   "cell_type": "code",
   "execution_count": null,
   "metadata": {},
   "outputs": [],
   "source": [
    "def convolve(solid_angle):\n",
    "    n = len(n_dot_l)*solid_angle/2/math.pi\n",
    "    win = signal.windows.boxcar(max(int(n), 1))\n",
    "    return signal.convolve(n_dot_l, win/len(win), mode='same')\n",
    "\n",
    "pp.plot(X, convolve(0.5*math.pi))\n",
    "pp.plot(X, n_dot_l)"
   ]
  },
  {
   "cell_type": "code",
   "execution_count": null,
   "metadata": {},
   "outputs": [],
   "source": [
    "def convolve_approx(solid_angle):\n",
    "    y = fft.fft(convolve(solid_angle))\n",
    "    y[3:] = 0\n",
    "    y[1:] *= 2\n",
    "    return np.real(fft.ifft(y))\n",
    "\n",
    "pp.plot(X, n_dot_l)\n",
    "pp.plot(X, convolve_approx(0.5*math.pi))"
   ]
  },
  {
   "cell_type": "code",
   "execution_count": null,
   "metadata": {},
   "outputs": [],
   "source": [
    "win = signal.windows.boxcar(16)\n",
    "win /= len(win)\n",
    "foo = fft.fft(win, 4096)\n",
    "foo = fft.fftshift(foo)\n",
    "pp.plot(np.abs(foo))\n",
    "pp.plot(np.abs(scipy.special.sinc(X*8/math.pi)))\n",
    "# Close enough to sinc()?"
   ]
  },
  {
   "cell_type": "code",
   "execution_count": null,
   "metadata": {},
   "outputs": [],
   "source": [
    "n_dot_l = np.maximum(0, np.cos(X))\n",
    "# pp.plot(X, n_dot_l, color='lightgrey')\n",
    "\n",
    "approx = (1/math.pi) + 0.5*np.cos(X) + (2/3/math.pi)*np.cos(2*X)\n",
    "pp.plot(X, approx, color='grey')\n",
    "pp.plot(X, convolve_approx(math.pi/2**0), color='grey')\n",
    "pp.plot(X, convolve_approx(math.pi/2**1), color='grey')\n",
    "pp.plot(X, convolve_approx(math.pi/2**2), color='grey')\n",
    "pp.plot(X, convolve_approx(math.pi/2**3), color='grey')\n",
    "pp.plot(X, convolve_approx(math.pi/2**4), color='grey')\n",
    "\n",
    "bar, sinc = 2*2**1, scipy.special.sinc\n",
    "a, b, c = sinc(0/bar), sinc(1/bar), sinc(2/bar)\n",
    "approx = a*(1/math.pi) + b*0.5*np.cos(X) + c*(2/3/math.pi)*np.cos(2*X)\n",
    "pp.plot(X, approx, color='green')"
   ]
  },
  {
   "cell_type": "code",
   "execution_count": null,
   "metadata": {},
   "outputs": [],
   "source": [
    "x = np.linspace(0, math.pi, 100)\n",
    "pp.plot(x, np.cos(x))\n",
    "pp.plot(x, scipy.special.sinc(x/math.pi))\n",
    "\n",
    "pp.figure()\n",
    "x = np.linspace(0, math.pi, 100)\n",
    "pp.plot(np.cos(x), scipy.special.sinc(x/math.pi))\n",
    "x = np.linspace(-1, 1, 100)\n",
    "pp.plot(x, (0.5 + 0.5*x)**0.63)\n",
    "pp.plot(x, np.sqrt(0.5 + 0.5*x))"
   ]
  },
  {
   "cell_type": "code",
   "execution_count": null,
   "metadata": {},
   "outputs": [],
   "source": [
    "def solid_angle_half(d_ratio):\n",
    "    d = d_ratio\n",
    "    return np.sqrt(d*d - 1)/d\n",
    "\n",
    "def solid_angle_full(d_ratio):\n",
    "    d = d_ratio\n",
    "    return 2*(d*d - 1)/(d*d) - 1\n",
    "\n",
    "x = np.linspace(1e-1, 1, 200)\n",
    "half = np.arccos(solid_angle_half(1/x))\n",
    "full = np.arccos(solid_angle_full(1/x))\n",
    "pp.plot(x, half)\n",
    "pp.plot(x, full)\n",
    "\n",
    "pp.figure()\n",
    "pp.axhline(1, color='grey')\n",
    "pp.plot(x, scipy.special.sinc(half/math.pi))\n",
    "pp.plot(x, scipy.special.sinc(full/math.pi))\n",
    "\n",
    "sinc_2 = scipy.special.sinc(0.5)\n",
    "pp.plot(x, sinc_2 + (1 - sinc_2)*(1 - x**2)**0.5)\n",
    "pp.plot(x, (1 - x**3))\n",
    "# pp.plot(1/x, (1 - x**1.9)**0.62)"
   ]
  },
  {
   "cell_type": "code",
   "execution_count": null,
   "metadata": {},
   "outputs": [],
   "source": [
    "def plot_approx(distance):\n",
    "    radius = 1\n",
    "    solid_angle = math.acos(solid_angle_full(distance))\n",
    "    \n",
    "    pp.figure()\n",
    "    pp.title(f\"Convolution Arc: {round(solid_angle/math.pi, 2)}*π\")\n",
    "\n",
    "    # Reference curve\n",
    "    pp.plot(X, convolve(solid_angle), linewidth=3)\n",
    "    # pp.plot(X, convolve_approx(solid_angle), linewidth=3)\n",
    "\n",
    "    def sinc_pi(x): return scipy.special.sinc(x/math.pi)\n",
    "    # Approximate main lobe of sinc(x/pi) using cos(x)\n",
    "    def sinc_pi(x): return math.sqrt(0.5 + 0.5*math.cos(x))\n",
    "    # A better approximation\n",
    "    # def sinc_pi(x): return (0.5 + 0.5*math.cos(x))**0.64\n",
    "\n",
    "    # Direct implementation using sinc_pi()\n",
    "    # b, c = sinc_pi(0.5*solid_angle), sinc_pi(1*solid_angle)\n",
    "    # approx = (1/math.pi) + b*0.5*np.cos(X) + c*(2/3/math.pi)*np.cos(2*X)\n",
    "    # pp.plot(X, approx)\n",
    "\n",
    "    # Area light convolution in fourier space.\n",
    "    # Approximation convolution of C1 and C2 with sinc(solid_angle/(3 - c_i))\n",
    "    dist_ratio = radius/distance\n",
    "    dist_factor = 1 - dist_ratio*dist_ratio*dist_ratio\n",
    "    C0 = 0.3183\n",
    "    C1 = 0.3183 + 0.1817*dist_factor\n",
    "    C2 = 0.2122*dist_factor\n",
    "    approx = C0 + C1*np.cos(X) + C2*np.cos(2*X)\n",
    "    pp.plot(X, approx)\n",
    "\n",
    "plot_approx(1.0)\n",
    "plot_approx(1.15)\n",
    "# plot_approx(math.sqrt(2))\n",
    "plot_approx(2)\n",
    "plot_approx(1e3)\n"
   ]
  },
  {
   "cell_type": "code",
   "execution_count": null,
   "metadata": {},
   "outputs": [],
   "source": []
  }
 ],
 "metadata": {
  "kernelspec": {
   "display_name": "Python 3",
   "language": "python",
   "name": "python3"
  },
  "language_info": {
   "codemirror_mode": {
    "name": "ipython",
    "version": 3
   },
   "file_extension": ".py",
   "mimetype": "text/x-python",
   "name": "python",
   "nbconvert_exporter": "python",
   "pygments_lexer": "ipython3",
   "version": "3.8.10"
  }
 },
 "nbformat": 4,
 "nbformat_minor": 5
}
