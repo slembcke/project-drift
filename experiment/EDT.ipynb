{
 "cells": [
  {
   "cell_type": "code",
   "execution_count": null,
   "id": "homeless-guess",
   "metadata": {},
   "outputs": [],
   "source": [
    "import math\n",
    "import numpy as np\n",
    "import matplotlib.pyplot as pp\n",
    "%matplotlib inline\n",
    "\n",
    "inf = float('inf')"
   ]
  },
  {
   "cell_type": "code",
   "execution_count": null,
   "id": "circular-trouble",
   "metadata": {},
   "outputs": [],
   "source": [
    "x = np.linspace(0, 10, 100)\n",
    "y = np.sin(x) + np.sin(2.1*x) + 0.5*np.sin(6.3*x) - 0.5"
   ]
  },
  {
   "cell_type": "code",
   "execution_count": null,
   "id": "tight-moderator",
   "metadata": {},
   "outputs": [],
   "source": [
    "pp.plot(X, y)\n",
    "pp.axhline(0)"
   ]
  },
  {
   "cell_type": "code",
   "execution_count": null,
   "id": "amber-storm",
   "metadata": {},
   "outputs": [],
   "source": [
    "def D(x):\n",
    "    ddx = np.zeros_like(x)\n",
    "    ddx[1: -1] = x[2:] - x[:-2]\n",
    "    ddx[0], ddx[-1] = ddx[1], ddx[-2]\n",
    "    return ddx\n",
    "\n",
    "def thresh(x):\n",
    "    return np.array([e > 0 and inf or 0 for e in x])\n",
    "\n",
    "y2 = y/np.abs(D(y))\n",
    "\n",
    "pp.figure(figsize=(40, 40))\n",
    "ax = pp.gca()\n",
    "ax.set_aspect(1)\n",
    "pp.ylim(-10, 10)\n",
    "pp.plot(y)\n",
    "pp.plot(y2)\n",
    "pp.axhline(0, color=\"blue\")\n",
    "# pp.plot(foo)\n",
    "# pp.axhline(1, color=\"orange\")"
   ]
  },
  {
   "cell_type": "code",
   "execution_count": null,
   "id": "professional-breathing",
   "metadata": {},
   "outputs": [],
   "source": [
    "def compute_edt(d):\n",
    "    v, z = find_parabolas(d)\n",
    "    d = march_parabolas(d, v, z)\n",
    "    return np.sqrt(d)\n",
    "\n",
    "def find_parabolas(d):\n",
    "    l = len(d)\n",
    "    vx, vy = np.zeros(l + 1), np.zeros(l + 1)\n",
    "    zx = np.full(l + 1, inf)\n",
    "    j = 0\n",
    "    vx[0], vy[0] = 0, d[0]\n",
    "    zx[0] = -inf\n",
    "    for i in range(1, len(d)):\n",
    "#         print(f\"i: {i}, j:{j}\")\n",
    "        px, py = vx[j], vy[j]\n",
    "        qx, qy = i, d[i]\n",
    "#         print(f\"  v[{j}]: ({px}, {py}), q: ({qx}, {qy})\")\n",
    "        sx = intersect_parabolas(px, py, qx, qy)\n",
    "#         print(f\"  sx: {sx}, zx[{j}]: {zx[j]}\")\n",
    "        while j > 0 and sx <= zx[j]:\n",
    "            j -= 1\n",
    "            px, py = vx[j], vy[j]\n",
    "            sx = intersect_parabolas(px, py, qx, qy)\n",
    "#             print(f\"    j: {j}, p: ({px}, {py}), sx: {sx}\")\n",
    "        j += 1\n",
    "#         print(f\"  v[{j}] = ({qx}, {qy}), zx[{j}] = {sx}\")\n",
    "        vx[j], vy[j] = qx, qy\n",
    "        zx[j] = sx\n",
    "    \n",
    "    return (vx, vy), zx\n",
    "\n",
    "def intersect_parabolas(px, py, qx, qy):\n",
    "    if py == qy: return (px + qx)/2\n",
    "    else: return ((qy + qx*qx) - (py + px*px))/(2*qx - 2*px)\n",
    "\n",
    "def march_parabolas(d, v, zx):\n",
    "    d = np.zeros_like(d)\n",
    "    vx, vy = v\n",
    "    j = 0\n",
    "    for i in range(len(d)):\n",
    "        while i > zx[j + 1]: j += 1\n",
    "#         print(f\"i: {i}, vx[{j}]: {vx[j]}\")\n",
    "        dx = i - vx[j]\n",
    "        d[i] = dx*dx + vy[j]\n",
    "    return d\n",
    "\n",
    "pp.figure(figsize=(40, 40))\n",
    "pp.gca().set_aspect(1)\n",
    "pp.ylim(-10, 10)\n",
    "\n",
    "pp.plot(4*y)\n",
    "\n",
    "edtp = compute_edt(thresh( y))\n",
    "edtn = compute_edt(thresh(-y))\n",
    "sdf = np.maximum(edtp - 0.5, 0) - np.maximum(edtn - 0.5, 0)\n",
    "pp.axhline(0)\n",
    "pp.plot(sdf)\n",
    "\n",
    "# yn = 4*y/np.abs(D(y))\n",
    "# yn = np.array([abs(y) < 2 and y or math.copysign(inf, y) for y in yn])\n",
    "# pp.plot(yn)\n",
    "\n",
    "# edt2 = compute_edt(np.abs(yn**2))*np.sign(yn)\n",
    "# pp.plot(edt2, \"o-\")"
   ]
  },
  {
   "cell_type": "code",
   "execution_count": null,
   "id": "dynamic-sunglasses",
   "metadata": {},
   "outputs": [],
   "source": [
    "pp.figure(figsize=(40, 40))\n",
    "pp.gca().set_aspect(1)\n",
    "pp.axhline(0)\n",
    "pp.ylim(-10, 10)\n",
    "\n",
    "# pp.plot(sdf)\n",
    "edtp = compute_edt(thresh( y))\n",
    "pp.plot(edtp)\n",
    "pp.plot(compute_edt(edtp**2))\n",
    "\n",
    "# sdf2 = np.array(sdf)\n",
    "# sdf2 = np.copysign(compute_edt(np.abs(sdf2) + 0.5), sdf2)\n",
    "# pp.plot(sdf2)"
   ]
  },
  {
   "cell_type": "code",
   "execution_count": null,
   "id": "driving-train",
   "metadata": {},
   "outputs": [],
   "source": []
  },
  {
   "cell_type": "code",
   "execution_count": null,
   "id": "adult-monitor",
   "metadata": {},
   "outputs": [],
   "source": []
  }
 ],
 "metadata": {
  "kernelspec": {
   "display_name": "Python 3",
   "language": "python",
   "name": "python3"
  },
  "language_info": {
   "codemirror_mode": {
    "name": "ipython",
    "version": 3
   },
   "file_extension": ".py",
   "mimetype": "text/x-python",
   "name": "python",
   "nbconvert_exporter": "python",
   "pygments_lexer": "ipython3",
   "version": "3.9.5"
  }
 },
 "nbformat": 4,
 "nbformat_minor": 5
}
